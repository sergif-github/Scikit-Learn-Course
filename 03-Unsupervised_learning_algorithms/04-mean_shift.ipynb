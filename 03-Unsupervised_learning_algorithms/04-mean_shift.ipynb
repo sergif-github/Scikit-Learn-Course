{
 "cells": [
  {
   "cell_type": "markdown",
   "metadata": {},
   "source": [
    "# Module 1: Introduction to Scikit-Learn\n",
    "\n",
    "## Part 4: Mean Shift Clustering\n",
    "\n",
    "In this part, we will explore Mean Shift clustering, a density-based algorithm used for clustering tasks. Mean Shift clustering aims to discover the centers of clusters by iteratively shifting the points towards the higher density regions.\n",
    "\n",
    "### 4.1 Understanding Mean Shift Clustering\n",
    "\n",
    "Mean Shift clustering is a density-based algorithm that iteratively shifts the data points towards higher density regions in the feature space. It starts by initializing a set of data points as centroids and updates them by shifting towards the mean of the points within a specified radius (bandwidth). This process continues until convergence, where the centroids no longer change significantly.\n",
    "\n",
    "The key idea behind Mean Shift clustering is to identify the modes or peaks of the data distribution, which represent the cluster centers. It does not require specifying the number of clusters in advance, making it suitable for tasks where the number of clusters is unknown.\n",
    "\n",
    "It is particularly well-suited for applications where the number of clusters is unknown and when clusters have varying shapes and sizes.\n",
    "\n",
    "### 4.2 Training\n",
    "\n",
    "To apply Mean Shift clustering, we need an unlabeled dataset. The algorithm starts by initializing centroids as data points and iteratively updates them until convergence. Each data point is assigned to the nearest centroid based on a distance metric within the specified bandwidth.\n",
    "\n",
    "Once trained, we can use the Mean Shift model to predict the cluster labels for new, unseen data points. The model assigns each data point to the nearest centroid based on their distance relationships.\n",
    "\n",
    "The bandwidth parameter in Mean Shift clustering determines the radius within which points are considered neighbors. The choice of bandwidth can significantly impact the clustering results. Too large a bandwidth may merge distinct clusters, while too small a bandwidth may create excessive or fragmented clusters. Tuning the bandwidth is an important step in applying Mean Shift clustering.\n",
    "\n",
    "Mean Shift clustering can be computationally expensive, especially with large datasets. The performance of Mean Shift is highly dependent on the choice of bandwidth, which can be a challenging task. It may not perform well when the data has varying densities or if the clusters have significantly different sizes."
   ]
  },
  {
   "cell_type": "code",
   "execution_count": null,
   "metadata": {},
   "outputs": [],
   "source": [
    "import numpy as np\n",
    "from sklearn.cluster import MeanShift, estimate_bandwidth\n",
    "from sklearn.datasets import make_blobs\n",
    "import matplotlib.pyplot as plt\n",
    "\n",
    "X, _ = make_blobs(n_samples=400, n_features=2, centers=3, cluster_std=2.0, random_state=42)\n",
    "\n",
    "bandwidth = estimate_bandwidth(X, quantile=0.2, n_samples=300)\n",
    "meanshift = MeanShift(bandwidth=bandwidth)\n",
    "meanshift.fit(X)\n",
    "labels = meanshift.labels_\n",
    "cluster_centers = meanshift.cluster_centers_\n",
    "\n",
    "plt.scatter(X[:, 0], X[:, 1], c=labels, cmap='viridis', s=20)\n",
    "plt.scatter(cluster_centers[:, 0], cluster_centers[:, 1], c='red', s=40, marker='X', label='Cluster Centers')\n",
    "plt.title('Mean Shift Clustering')\n",
    "plt.xlabel('Feature 1')\n",
    "plt.ylabel('Feature 2')\n",
    "plt.legend()\n",
    "plt.show()"
   ]
  },
  {
   "cell_type": "markdown",
   "metadata": {},
   "source": [
    "In this example, we demonstrated Mean Shift clustering on synthetic data with three clusters. We estimated the appropriate bandwidth for the Mean Shift algorithm using Scott's Rule of Thumb, a heuristic for bandwidth estimation. We then created a MeanShift instance with the estimated bandwidth and fit the model to the data, obtaining cluster labels and cluster centers. The visualization showcased the data points color-coded by their assigned clusters, with the cluster centers marked as red 'X' markers. This example serves as a starting point for understanding and applying Mean Shift clustering, and you can further customize it by adjusting parameters like the cluster_std when generating data or fine-tuning bandwidth estimation methods to adapt the algorithm to your specific dataset and clustering needs.\n",
    "\n",
    "### 4.3 Summary\n",
    "\n",
    "Mean Shift Clustering is a versatile and density-based clustering algorithm suitable for a range of data distributions. It does not require specifying the number of clusters in advance and can discover clusters with varying shapes and sizes. The key parameters to tune are the bandwidth and the choice of the kernel function. Mean Shift is particularly useful when dealing with data where traditional methods like K-means may struggle to capture complex structures or when the number of clusters is not known beforehand."
   ]
  }
 ],
 "metadata": {
  "kernelspec": {
   "display_name": "Python 3",
   "language": "python",
   "name": "python3"
  },
  "language_info": {
   "codemirror_mode": {
    "name": "ipython",
    "version": 3
   },
   "file_extension": ".py",
   "mimetype": "text/x-python",
   "name": "python",
   "nbconvert_exporter": "python",
   "pygments_lexer": "ipython3",
   "version": "3.8.10"
  },
  "orig_nbformat": 4
 },
 "nbformat": 4,
 "nbformat_minor": 2
}
