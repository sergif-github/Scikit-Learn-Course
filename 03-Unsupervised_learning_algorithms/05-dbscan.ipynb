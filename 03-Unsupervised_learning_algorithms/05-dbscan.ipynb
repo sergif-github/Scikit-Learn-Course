{
 "cells": [
  {
   "cell_type": "markdown",
   "metadata": {},
   "source": [
    "# Module 1: Introduction to Scikit-Learn\n",
    "\n",
    "## Part 5: DBSCAN (Density-Based Spatial Clustering of Applications with Noise)\n",
    "\n",
    "In this part, we will explore DBSCAN, a density-based clustering algorithm used to discover clusters of arbitrary shape in a dataset. DBSCAN stands for Density-Based Spatial Clustering of Applications with Noise.\n",
    "\n",
    "### 5.1 Understanding DBSCAN\n",
    "\n",
    "DBSCAN is a density-based clustering algorithm that groups together data points that are close to each other based on a density criterion. Unlike k-means or agglomerative clustering, DBSCAN can discover clusters of arbitrary shape and is robust to noise and outliers.\n",
    "\n",
    "The key idea behind DBSCAN is that a cluster is defined as a dense region of data points, separated by regions of lower density. It identifies core points, which have a sufficient number of neighboring points within a specified radius (epsilon). It also identifies border points, which have fewer neighboring points but belong to a cluster because they are reachable from a core point. Any points that are neither core points nor border points are considered noise or outliers.\n",
    "\n",
    "Important Notes:\n",
    "- DBSCAN is sensitive to the scale of the data. It is recommended to scale the features before applying DBSCAN.\n",
    "- DBSCAN is robust to outliers and noise due to its noise point classification.\n",
    "- It can discover clusters of arbitrary shapes and sizes.\n",
    "- Careful parameter selection (epsilon and min_samples) is crucial for good clustering results.\n",
    "- DBSCAN may not perform well in datasets with varying densities or when clusters have significantly different sizes.\n",
    "\n",
    "### 5.2 Training and Evaluation\n",
    "\n",
    "To apply DBSCAN, we need an unlabeled dataset. The algorithm starts by randomly selecting an unvisited data point and expands the cluster by adding core points and their reachable neighboring points. It continues this process until all points have been visited.\n",
    "\n",
    "DBSCAN has two key parameters: eps (epsilon) and min_samples. The eps parameter determines the radius within which points are considered neighbors, and min_samples specifies the minimum number of neighboring points required for a point to be considered a core point. The choice of these parameters depends on the density and distribution of the data. It may require some experimentation and domain knowledge to set them appropriately.\n",
    "\n",
    "Once trained, we can use the DBSCAN model to predict the cluster labels for new, unseen data points. The model assigns each data point to a cluster label based on its proximity and density relationships with other points.\n",
    "\n",
    "DBSCAN often does not require ground truth labels for evaluation. Evaluation is mainly based on visual inspection, cluster coherence, and the ability to capture data density-based structures."
   ]
  },
  {
   "cell_type": "code",
   "execution_count": null,
   "metadata": {},
   "outputs": [],
   "source": [
    "import numpy as np\n",
    "from sklearn.cluster import DBSCAN\n",
    "import matplotlib.pyplot as plt\n",
    "\n",
    "np.random.seed(0)\n",
    "X = np.random.randn(300, 2)\n",
    "X[:100] += [10,2]\n",
    "X[100:200] += [1,6]\n",
    "X[200:] += [10,10]\n",
    "\n",
    "dbscan = DBSCAN(eps=0.7, min_samples=4)\n",
    "dbscan.fit(X)\n",
    "labels = dbscan.labels_\n",
    "\n",
    "unique_labels = np.unique(labels)\n",
    "colors = plt.cm.Spectral(np.linspace(0, 1, len(unique_labels)))\n",
    "\n",
    "for label, color in zip(unique_labels, colors):\n",
    "    if label == -1:\n",
    "        col = 'k'\n",
    "    else:\n",
    "        col = color\n",
    "    cluster_points = X[labels == label]\n",
    "    plt.scatter(cluster_points[:, 0], cluster_points[:, 1], c=col, s=20, label=f'Cluster {label}')\n",
    "plt.title('DBSCAN Clustering')\n",
    "plt.xlabel('Feature 1')\n",
    "plt.ylabel('Feature 2')\n",
    "plt.legend()\n",
    "plt.show()"
   ]
  },
  {
   "cell_type": "markdown",
   "metadata": {},
   "source": [
    "In this DBSCAN clustering example, synthetic data with arbitrary shapes is generated, simulating a dataset with three distinct clusters. DBSCAN (Density-Based Spatial Clustering of Applications with Noise) is applied to uncover these clusters. We set the algorithm's eps parameter (radius of neighborhood) to 0.7 and min_samples (minimum points required to form a dense region) to 4, which were chosen based on the characteristics of the data.\n",
    "\n",
    "DBSCAN effectively identifies the clusters without the need for specifying the number of clusters in advance. The visualization shows the data points color-coded by their assigned clusters, with black representing noise points. DBSCAN's ability to adapt to varying cluster shapes and handle noise makes it a robust choice for clustering tasks. The choice of eps and min_samples parameters can significantly impact the clustering results and should be tailored to the specific dataset and clustering objectives.\n",
    "\n",
    "### 5.3 Summary\n",
    "\n",
    "DBSCAN is a versatile density-based clustering algorithm suitable for datasets with complex structures and an unknown number of clusters. Its ability to handle noise and identify clusters of varying shapes makes it a valuable tool in data analysis and exploration. With the right parameter settings, DBSCAN can effectively uncover meaningful patterns and structures within your data, making it a powerful addition to the clustering toolkit."
   ]
  }
 ],
 "metadata": {
  "kernelspec": {
   "display_name": "Python 3",
   "language": "python",
   "name": "python3"
  },
  "language_info": {
   "codemirror_mode": {
    "name": "ipython",
    "version": 3
   },
   "file_extension": ".py",
   "mimetype": "text/x-python",
   "name": "python",
   "nbconvert_exporter": "python",
   "pygments_lexer": "ipython3",
   "version": "3.8.10"
  },
  "orig_nbformat": 4
 },
 "nbformat": 4,
 "nbformat_minor": 2
}
