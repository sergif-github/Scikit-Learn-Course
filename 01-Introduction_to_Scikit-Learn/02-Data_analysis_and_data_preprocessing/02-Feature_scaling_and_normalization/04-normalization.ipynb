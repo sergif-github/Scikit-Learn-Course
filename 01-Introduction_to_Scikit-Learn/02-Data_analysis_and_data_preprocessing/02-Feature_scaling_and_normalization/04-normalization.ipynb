{
 "cells": [
  {
   "cell_type": "markdown",
   "metadata": {},
   "source": [
    "# Module 1: Introduction to Scikit-Learn\n",
    "\n",
    "## Section 2: Exploratory Data Analysis (EDA) and Data Preprocessing\n",
    "\n",
    "### Part 4: Normalization\n",
    "\n",
    "In this part, we will explore the concept of normalization, a data preprocessing technique used to rescale features to a common range. Normalization is particularly useful when features need to be scaled based on their magnitude or to emphasize their relative importance. Let's dive in!\n",
    "\n",
    "### 4.1 Understanding Normalization\n",
    "\n",
    "Normalization, also known as feature scaling, is a technique used to rescale numerical features to a common range. It involves transforming the feature values to lie within a specified interval, typically between 0 and 1. Normalization ensures that all features have the same scale and emphasizes their relative importance.\n",
    "\n",
    "The key idea behind normalization is to bring all features to a common range without distorting their distributions. By rescaling the features, we can prevent features with larger magnitudes from dominating the learning algorithm and ensure that all features contribute equally to the model's performance.\n",
    "\n",
    "### 4.2 Training and Transformation\n",
    "\n",
    "To apply normalization, we need a dataset with numerical features. The normalization process involves calculating the minimum and maximum values of each feature in the training set. We then rescale the feature values to fit within the desired range for both the training and test sets.\n",
    "\n",
    "Scikit-Learn provides the MinMaxScaler class for performing normalization. Here's an example of how to use it:\n",
    "\n",
    "```python\n",
    "from sklearn.preprocessing import MinMaxScaler\n",
    "\n",
    "# Create an instance of the MinMaxScaler model\n",
    "scaler = MinMaxScaler()\n",
    "\n",
    "# Fit the model to the training data and calculate the minimum and maximum values\n",
    "scaler.fit(X_train)\n",
    "\n",
    "# Transform the training and test data using the calculated minimum and maximum values\n",
    "X_train_normalized = scaler.transform(X_train)\n",
    "X_test_normalized = scaler.transform(X_test)\n",
    "```\n",
    "\n",
    "### 4.3 Choosing Parameters\n",
    "\n",
    "The MinMaxScaler class allows specifying the desired range for the normalized values through the feature_range parameter. By default, it scales the features to the range [0, 1]. However, you can also specify a different range if necessary.\n",
    "\n",
    "### 4.4 Handling Magnitude Differences\n",
    "\n",
    "Normalization is particularly useful when features need to be scaled based on their magnitude or to emphasize their relative importance. It brings all features within the desired interval, making them directly comparable. This is important for algorithms that are sensitive to the absolute values or magnitudes of features.\n",
    "\n",
    "### 4.5 Summary\n",
    "\n",
    "Normalization is a data preprocessing technique used to rescale numerical features to a common range. It brings features within the desired interval, ensuring that they have the same scale and emphasizing their relative importance. Scikit-Learn provides the MinMaxScaler class for performing normalization easily. Understanding the concepts, training, and parameter tuning is crucial for effectively using normalization in practice.\n",
    "\n",
    "In the next part, we will explore other data preprocessing techniques provided by Scikit-Learn.\n",
    "\n",
    "Feel free to practice implementing normalization using Scikit-Learn's MinMaxScaler. Experiment with different ranges and observe the effects on the feature distributions."
   ]
  }
 ],
 "metadata": {
  "language_info": {
   "name": "python"
  },
  "orig_nbformat": 4
 },
 "nbformat": 4,
 "nbformat_minor": 2
}
