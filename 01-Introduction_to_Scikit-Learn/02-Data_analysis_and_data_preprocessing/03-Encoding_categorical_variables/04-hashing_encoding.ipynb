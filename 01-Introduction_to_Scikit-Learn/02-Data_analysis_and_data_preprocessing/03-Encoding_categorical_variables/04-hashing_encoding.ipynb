{
 "cells": [
  {
   "cell_type": "markdown",
   "metadata": {},
   "source": [
    "# Module 1: Introduction to Scikit-Learn\n",
    "\n",
    "## Section 2: Exploratory Data Analysis (EDA) and Data Preprocessing\n",
    "\n",
    "### Part 4: Hashing Encoding\n",
    "\n",
    "In this part, we will explore the concept of Hashing Encoding, a data preprocessing technique used to convert categorical variables into a numerical representation using hashing functions. Hashing Encoding is particularly useful when dealing with high-dimensional categorical variables or when memory efficiency is a concern. Let's dive in!\n",
    "\n",
    "### 4.1 Understanding Hashing Encoding\n",
    "\n",
    "Hashing Encoding is a technique used to convert categorical variables into a numerical representation using hashing functions. It maps each category to a fixed number of bins or \"hashes\" based on the output of a hash function. The resulting numerical representation can be used as input to machine learning algorithms.\n",
    "\n",
    "The key idea behind Hashing Encoding is to transform categorical variables into a fixed-dimensional space, regardless of the number of unique categories. This technique is especially useful when dealing with high-cardinality variables or situations where memory efficiency is crucial.\n",
    "\n",
    "### 4.2 Training and Transformation\n",
    "\n",
    "To apply Hashing Encoding, we need a dataset with categorical variables. The encoding process involves applying a hash function to each category and mapping the resulting hash value to a fixed number of bins. The number of bins determines the dimensionality of the encoded representation.\n",
    "\n",
    "Scikit-Learn does not provide a specific implementation for Hashing Encoding. However, libraries such as category_encoders and scikit-learn offer functions and classes that can be used for Hashing Encoding in Python. Here's an example of how to use scikit-learn's FeatureHasher:\n",
    "\n",
    "```python\n",
    "from sklearn.feature_extraction import FeatureHasher\n",
    "\n",
    "# Create an instance of the FeatureHasher model\n",
    "hasher = FeatureHasher(n_features=10, input_type='string')\n",
    "\n",
    "# Transform the categorical data using the hash function\n",
    "hashed_data = hasher.transform(categorical_data)\n",
    "\n",
    "# Convert the hashed data to a dense representation\n",
    "hashed_data_dense = hashed_data.toarray()\n",
    "```\n",
    "\n",
    "### 4.3 Choosing Parameters\n",
    "\n",
    "The most important parameter in Hashing Encoding is the number of features or bins (n_features), which determines the dimensionality of the encoded representation. Choosing an appropriate number of features depends on the cardinality of the categorical variable and the desired trade-off between memory efficiency and collision risk.\n",
    "\n",
    "### 4.4 Handling High-Cardinality Variables\n",
    "\n",
    "Hashing Encoding is particularly useful when dealing with high-dimensional categorical variables or variables with a large number of unique categories. By mapping categories to a fixed number of bins, Hashing Encoding ensures a consistent dimensionality regardless of the number of categories. However, it is important to note that collisions can occur, where different categories are hashed to the same bin.\n",
    "\n",
    "### 4.5 Smmary\n",
    "\n",
    "Hashing Encoding is a data preprocessing technique used to convert categorical variables into a numerical representation using hash functions. It maps categories to a fixed number of bins, allowing for a consistent dimensionality regardless of the number of unique categories. Libraries like category_encoders and scikit-learn provide convenient functions and classes for performing Hashing Encoding in Python. Understanding the concepts, choosing the number of features, and handling high-cardinality variables are crucial for effectively using Hashing Encoding in practice.\n",
    "\n",
    "In the next part, we will explore other data preprocessing techniques provided by Scikit-Learn.\n",
    "\n",
    "Feel free to practice implementing Hashing Encoding using libraries like category_encoders or scikit-learn. Experiment with different datasets and observe the effects of the encoding on the categorical variables."
   ]
  }
 ],
 "metadata": {
  "language_info": {
   "name": "python"
  },
  "orig_nbformat": 4
 },
 "nbformat": 4,
 "nbformat_minor": 2
}
