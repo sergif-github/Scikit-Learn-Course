{
 "cells": [
  {
   "cell_type": "markdown",
   "metadata": {},
   "source": [
    "# Module 1: Data Analysis and Data Preprocessing\n",
    "\n",
    "## Section 1: Handling missing data\n",
    "\n",
    "### Part 2: Simple imputer\n",
    "\n",
    "In this part, we will explore techniques for handling missing data by imputing values using the mean, median, most frequent values or constant. Missing data can occur for various reasons, and imputation allows us to estimate or replace the missing values based on the available data. Let's get started!\n",
    "\n",
    "### 2.1 Understanding imputation techniques\n",
    "\n",
    "Imputation is the process of filling in missing data with estimated or substituted values. It is a common approach to handle missing values in a dataset. The choice of imputation technique depends on the nature of the data and the reasons for the missing values.\n",
    "\n",
    "### 2.2 Imputation with mean\n",
    "\n",
    "Imputing missing values with the mean is a simple and commonly used technique. It replaces the missing values with the mean value of the available data for the respective feature. It works only with a numeric fields. This method assumes that the missing values are missing at random and that the mean value is representative of the feature's distribution.\n",
    "\n",
    "Scikit-Learn provides the SimpleImputer class to perform mean imputation. Here's an example of how to use it:"
   ]
  },
  {
   "cell_type": "code",
   "execution_count": null,
   "metadata": {},
   "outputs": [],
   "source": [
    "import pandas as pd\n",
    "from sklearn.impute import SimpleImputer\n",
    "\n",
    "# Sample data with missing values\n",
    "data = {\n",
    "    'Height': [165, 175, None, 158, 180, None, 170, 163, 172, 168]\n",
    "}\n",
    "\n",
    "# Convert data to a DataFrame\n",
    "df = pd.DataFrame(data)\n",
    "\n",
    "# Display the original DataFrame\n",
    "print(\"Original DataFrame:\")\n",
    "print(df)\n",
    "\n",
    "# Create a SimpleImputer object with the mean strategy\n",
    "imputer = SimpleImputer(strategy='mean')\n",
    "\n",
    "# Fit and transform the data to impute missing values with the mean\n",
    "imputed_data = imputer.fit_transform(df)\n",
    "\n",
    "# Convert the imputed_data back to a DataFrame\n",
    "imputed_df = pd.DataFrame(imputed_data, columns=df.columns)\n",
    "\n",
    "# Display the DataFrame after imputation\n",
    "print(\"\\nDataFrame after imputation:\")\n",
    "print(imputed_df)"
   ]
  },
  {
   "cell_type": "markdown",
   "metadata": {},
   "source": [
    "As you can see, the missing values in the \"Height\" column (indicated by \"NaN\") have been replaced with the mean value of the available heights, which is approximately 169.6 in this case. The SimpleImputer helps us handle missing data by providing a reasonable estimate based on the available information, which is crucial for building accurate machine learning models.\n",
    "\n",
    "### 2.3 Imputation with median\n",
    "\n",
    "Imputing missing values with the median is another technique commonly used when dealing with outliers or skewed distributions. It replaces the missing values with the median value of the available data for the respective feature. It works only with a numeric fields. This method is less sensitive to extreme values compared to mean imputation.\n",
    "\n",
    "Scikit-Learn's SimpleImputer class can also be used for median imputation. Here's an example:"
   ]
  },
  {
   "cell_type": "code",
   "execution_count": null,
   "metadata": {},
   "outputs": [],
   "source": [
    "import pandas as pd\n",
    "from sklearn.impute import SimpleImputer\n",
    "\n",
    "# Sample data with missing values\n",
    "data = {\n",
    "    'Age': [25, 30, None, 22, None, 27, 35, 29, None, 31]\n",
    "}\n",
    "\n",
    "# Convert data to a DataFrame\n",
    "df = pd.DataFrame(data)\n",
    "\n",
    "# Display the original DataFrame\n",
    "print(\"Original DataFrame:\")\n",
    "print(df)\n",
    "\n",
    "# Create a SimpleImputer object with the median strategy\n",
    "imputer = SimpleImputer(strategy='median')\n",
    "\n",
    "# Fit and transform the data to impute missing values with the median\n",
    "imputed_data = imputer.fit_transform(df)\n",
    "\n",
    "# Convert the imputed_data back to a DataFrame\n",
    "imputed_df = pd.DataFrame(imputed_data, columns=df.columns)\n",
    "\n",
    "# Display the DataFrame after imputation\n",
    "print(\"\\nDataFrame after imputation:\")\n",
    "print(imputed_df)"
   ]
  },
  {
   "cell_type": "markdown",
   "metadata": {},
   "source": [
    "As you can see, the missing values in the \"Age\" column (indicated by \"NaN\") have been replaced with the median value of the available ages, which is 29.0 in this case. The SimpleImputer with the median strategy provides us with a robust estimate for handling missing data based on the existing information in the dataset.\n",
    "\n",
    "### 2.4 Imputation with most frequent values\n",
    "\n",
    "Imputing missing values with the most frequent values. This approach is applicable for both numeric and categorical columns. It replaces the missing values with the most frequent value (mode) of the available data for the respective feature. This method assumes that the missing values are most likely to have the same value as the majority of the observations. If there is more than one such value, only the smallest is returned. \n",
    "\n",
    "If data has no mode then we can't use mode as a measure of central tendency, instead, we can use mean, median, etc.\n",
    "\n",
    "Scikit-Learn's SimpleImputer class can handle categorical variables for mode imputation. Here's an example:"
   ]
  },
  {
   "cell_type": "code",
   "execution_count": null,
   "metadata": {},
   "outputs": [],
   "source": [
    "import numpy as np\n",
    "import pandas as pd\n",
    "\n",
    "# Create a radnom datset of 10 rows and 4 columns\n",
    "df = pd.DataFrame(np.random.randn(10, 4), columns=list('ABCD'))\n",
    "\n",
    "# Randomly set some values as null\n",
    "df = df.mask(np.random.random((10, 4)) < .20)\n",
    "print()\n",
    "# Duplicate two cells with same values\n",
    "df['B'][8] = df['B'][9]\n",
    "# Display the original DataFrame\n",
    "print(\"Original DataFrame:\")\n",
    "print(df)\n",
    "\n",
    "most_frequent_imputer = SimpleImputer(strategy='most_frequent')\n",
    "result_most_frequent_imputer = most_frequent_imputer.fit_transform(df)\n",
    "# Display the DataFrame after imputation\n",
    "print(\"\\nDataFrame after imputation:\")\n",
    "print(pd.DataFrame(result_most_frequent_imputer, columns=list('ABCD')))"
   ]
  },
  {
   "cell_type": "markdown",
   "metadata": {},
   "source": [
    "As you can see, the missing values (indicated by \"None\") have been replaced with the most frequent value. The SimpleImputer with the most frequent strategy provides us with a straightforward way to handle missing data by filling in the most commonly occurring values based on the available information in the dataset.\n",
    "\n",
    "### 2.5 Imputation with constant\n",
    "\n",
    "The constant strategy allows you to fill in the missing values with a specified constant value. This approach is applicable for both numeric and categorical columns. \n",
    "\n",
    "Here's an example:"
   ]
  },
  {
   "cell_type": "code",
   "execution_count": null,
   "metadata": {},
   "outputs": [],
   "source": [
    "import pandas as pd\n",
    "from sklearn.impute import SimpleImputer\n",
    "\n",
    "# Sample data with missing values\n",
    "data = {\n",
    "    'Age': [25, 30, None, 22, None, 27, 35, 29, None, 31]\n",
    "}\n",
    "\n",
    "# Convert data to a DataFrame\n",
    "df = pd.DataFrame(data)\n",
    "\n",
    "# Display the original DataFrame\n",
    "print(\"Original DataFrame:\")\n",
    "print(df)\n",
    "\n",
    "# Create a SimpleImputer object with the constant strategy\n",
    "imputer = SimpleImputer(strategy='constant', fill_value=100)\n",
    "\n",
    "# Fit and transform the data to impute missing values with the constant value\n",
    "imputed_data = imputer.fit_transform(df)\n",
    "\n",
    "# Convert the imputed_data back to a DataFrame\n",
    "imputed_df = pd.DataFrame(imputed_data, columns=df.columns)\n",
    "\n",
    "# Display the DataFrame after imputation\n",
    "print(\"\\nDataFrame after imputation:\")\n",
    "print(imputed_df)"
   ]
  },
  {
   "cell_type": "markdown",
   "metadata": {},
   "source": [
    "As you can see, the missing values in the \"Age\" column (indicated by \"NaN\") have been replaced with the constant value of 100, as specified in the SimpleImputer. The SimpleImputer with the constant strategy allows us to handle missing data by filling in a fixed value, which can be useful in certain situations where the constant value is meaningful for the analysis or modeling task.\n",
    "\n",
    "### 2.6 Summary\n",
    "\n",
    "Imputation is a crucial step in handling missing data. Depending on the nature of the data and the reasons for missing values, we can use imputation techniques such as mean, median, or most frequent value imputation. Scikit-Learn's SimpleImputer class provides a convenient way to perform imputation in both numerical and categorical features.\n",
    "\n",
    "In the next part, we will explore imputation using iterative imputer."
   ]
  }
 ],
 "metadata": {
  "kernelspec": {
   "display_name": "Python 3",
   "language": "python",
   "name": "python3"
  },
  "language_info": {
   "codemirror_mode": {
    "name": "ipython",
    "version": 3
   },
   "file_extension": ".py",
   "mimetype": "text/x-python",
   "name": "python",
   "nbconvert_exporter": "python",
   "pygments_lexer": "ipython3",
   "version": "3.8.10"
  },
  "orig_nbformat": 4
 },
 "nbformat": 4,
 "nbformat_minor": 2
}
