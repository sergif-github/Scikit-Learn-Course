{
 "cells": [
  {
   "cell_type": "markdown",
   "metadata": {},
   "source": [
    "# Module 1: Data Analysis and Data Preprocessing\n",
    "\n",
    "## Section 1: Handling missing data\n",
    "\n",
    "### Part 1: Dropping missing data\n",
    "\n",
    "In this part, we will discuss the concept of Dropping Missing Data, a data preprocessing technique used when dealing with missing values in a dataset. When missing data is present, one approach is to simply drop the rows or columns containing missing values. However, this technique should be used with caution, as it may lead to data loss and potential bias in the analysis. Let's explore Dropping Missing Data in more detail.\n",
    "\n",
    "### 1.1 Understanding dropping missing data\n",
    "\n",
    "Dropping missing data involves removing rows or columns that contain one or more missing values from the dataset. This approach is a simple and quick way to handle missing data, and it can be effective when the amount of missing data is small and random.\n",
    "\n",
    "There are two main strategies for dropping missing data:\n",
    "\n",
    "- Row Dropping: If the missing values are primarily in a small number of rows, dropping those rows may not significantly impact the overall dataset.\n",
    "\n",
    "- Column Dropping: If a feature has a large number of missing values or a high proportion of missing data, it might be better to drop the entire column.\n",
    "\n",
    "### 1.2 Pros and cons of Dropping missing data\n",
    "Pros:\n",
    "\n",
    "- Simple and quick to implement.\n",
    "- Suitable for small datasets with a small proportion of missing data.\n",
    "- Removes problematic rows or columns that could affect the analysis.\n",
    "\n",
    "Cons:\n",
    "\n",
    "- Leads to data loss, which can reduce the overall sample size.\n",
    "- May introduce bias, especially if the missing data is not missing completely at random (MCAR).\n",
    "- In large datasets, dropping missing data can lead to significant information loss.\n",
    "\n",
    "### 1.3 Dropping missing data using pandas\n",
    "\n",
    "Scikit-learn doesn't directly provide functions for dropping missing values since its primary focus is on machine learning algorithms, not data preprocessing. Instead, you can use Pandas, or other libraries like NumPy to handle missing values.\n",
    "Dropping missing data can be performed using Pandas, a popular library for data manipulation. \n",
    "Here's an example:"
   ]
  },
  {
   "cell_type": "code",
   "execution_count": null,
   "metadata": {},
   "outputs": [],
   "source": [
    "import pandas as pd\n",
    "\n",
    "#Suppose we have a DataFrame df with some missing values:\n",
    "data = {\n",
    "    'A': [1, 2, None, 4, 5],\n",
    "    'B': [10, 20, 30, None, 50],\n",
    "    'C': [100, 200, 300, 400, None]\n",
    "}\n",
    "\n",
    "df = pd.DataFrame(data)\n",
    "\n",
    "# The DataFrame df looks like this\n",
    "print(\"Original DataFrame:\")\n",
    "print(df)\n",
    "\n",
    "#We can use Pandas' dropna() function to drop rows with any missing values:\n",
    "# Dropping rows with any missing values\n",
    "df_dropped_rows = df.dropna()\n",
    "# After dropping rows with any missing values, df_dropped_rows will look like this:\n",
    "print(\"\\nDropped rows DataFrame:\")\n",
    "print(df_dropped_rows)\n",
    "# As you can see, rows 2, 3, and 4, which contained missing values, have been dropped from the DataFrame.\n",
    "\n",
    "#You can also use dropna() to drop columns with any missing values by specifying the axis parameter:\n",
    "\n",
    "# Dropping columns with any missing values\n",
    "df_dropped_columns = df.dropna(axis=1)\n",
    "#After dropping columns with any missing values, df_dropped_columns will look like this:\n",
    "print(\"\\nDropped columns DataFrame:\")\n",
    "print(df_dropped_columns)\n",
    "# As you can see, all columns containing missing values have been dropped from the DataFrame."
   ]
  },
  {
   "cell_type": "markdown",
   "metadata": {},
   "source": [
    "### Drop missing data using NumPy\n",
    "\n",
    "In this NumPy example, we create a NumPy array arr with missing values (represented as np.nan). We then use np.isnan(arr) to identify the locations of missing values and np.isnan(arr).any(axis=1) to check if any values are missing in each row. The ~ operator is used to negate the condition, and we use it to index the array and drop rows with any missing values."
   ]
  },
  {
   "cell_type": "code",
   "execution_count": null,
   "metadata": {},
   "outputs": [],
   "source": [
    "import numpy as np\n",
    "\n",
    "# Sample array with missing values\n",
    "arr = np.array([[1, 2, np.nan], [4, np.nan, 6], [7, 8, 9]])\n",
    "print(\"Original Array:\")\n",
    "print(arr)\n",
    "\n",
    "# Dropping rows with any missing values\n",
    "arr_dropped_rows = arr[~np.isnan(arr).any(axis=1)]\n",
    "print(\"\\nArray after dropping rows with any missing values:\")\n",
    "print(arr_dropped_rows)"
   ]
  },
  {
   "cell_type": "markdown",
   "metadata": {},
   "source": [
    "In this NumPy example, we create a NumPy array arr with missing values (represented as np.nan). We then use np.isnan(arr) to identify the locations of missing values and np.isnan(arr).any(axis=1) to check if any values are missing in each row. The ~ operator is used to negate the condition, and we use it to index the array and drop rows with any missing values.\n",
    "\n",
    "### 1.4 Summary\n",
    "\n",
    "Dropping missing data is a straightforward data preprocessing technique used to handle missing values. It can be effective when the amount of missing data is small and random. However, it's essential to carefully consider the impact of data loss and potential bias before using this approach.\n",
    "\n",
    "Remember that dropping missing data is just one of the methods to handle missing values. Depending on your dataset and the extent of missing data, other imputation or interpolation techniques may be more appropriate. Always consider the characteristics of your data and the implications of each method before making a decision.\n",
    "\n",
    "In the next part, we will explore imputation data preprocessing, which can be more suitable for handling missing data in certain scenarios."
   ]
  }
 ],
 "metadata": {
  "kernelspec": {
   "display_name": "Python 3",
   "language": "python",
   "name": "python3"
  },
  "language_info": {
   "codemirror_mode": {
    "name": "ipython",
    "version": 3
   },
   "file_extension": ".py",
   "mimetype": "text/x-python",
   "name": "python",
   "nbconvert_exporter": "python",
   "pygments_lexer": "ipython3",
   "version": "3.8.10"
  },
  "orig_nbformat": 4
 },
 "nbformat": 4,
 "nbformat_minor": 2
}
