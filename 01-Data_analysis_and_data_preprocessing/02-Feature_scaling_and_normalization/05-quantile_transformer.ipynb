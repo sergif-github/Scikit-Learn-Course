{
 "cells": [
  {
   "cell_type": "markdown",
   "metadata": {},
   "source": [
    "# Module 1: Data Analysis and Data Preprocessing\n",
    "\n",
    "## Section 2: Feature scaling and normalization\n",
    "\n",
    "### Part 5: QuantileTransformer\n",
    "\n",
    "The QuantileTransformer is a data transformation technique provided by scikit-learn that performs quantile-based feature scaling. It transforms the features to follow a uniform or a normal distribution, making it useful for handling non-Gaussian or skewed data. The QuantileTransformer is particularly helpful when dealing with features that have different scales and do not follow a linear relationship.\n",
    "\n",
    "### 5.1 Understanding how QuantileTransformer works\n",
    "\n",
    "The QuantileTransformer works by mapping the original data's quantiles to a predefined distribution, such as the uniform or normal distribution. This mapping helps in achieving a more even distribution of values, reducing the impact of outliers, and making the transformed data more suitable for certain machine learning algorithms.\n",
    "\n",
    "Some benefits: \n",
    "\n",
    "- Handles skewed or non-Gaussian data effectively.\n",
    "- Scales features to a more uniform or normal distribution, making them suitable for certain machine learning algorithms.\n",
    "- Reduces the impact of outliers and improves model stability.\n",
    "    - The QuantileTransformer is sensitive to the presence of extreme outliers, and their influence might be increased after transformation.\n",
    "\n",
    "### 5.1 Parameters of QuantileTransformer\n",
    "\n",
    "- n_quantiles: The number of quantiles used for the transformation. By default, it is set to 1000.\n",
    "- output_distribution: The desired output distribution. It can be either 'uniform' or 'normal'. By default, it is set to 'uniform'.\n",
    "- random_state: A random seed to ensure reproducibility.\n",
    "\n",
    "### 5.2 Usage of QuantileTransformer\n",
    "\n",
    "To use the QuantileTransformer, here's an example of how to use it:"
   ]
  },
  {
   "cell_type": "code",
   "execution_count": null,
   "metadata": {},
   "outputs": [],
   "source": [
    "import numpy as np\n",
    "import matplotlib.pyplot as plt\n",
    "from sklearn.preprocessing import QuantileTransformer\n",
    "\n",
    "# Generate skewed data (exponential distribution)\n",
    "np.random.seed(1)\n",
    "data = np.random.exponential(1, size=1000).reshape(-1, 1)\n",
    "\n",
    "# Create a QuantileTransformer instance\n",
    "quantile_transformer = QuantileTransformer(n_quantiles=100, output_distribution='uniform', random_state=1)\n",
    "quantile_transformer2 = QuantileTransformer(n_quantiles=100, output_distribution='normal', random_state=1)\n",
    "# Fit the transformer and transform the data\n",
    "transformed_data = quantile_transformer.fit_transform(data)\n",
    "transformed_data2 = quantile_transformer2.fit_transform(data)\n",
    "\n",
    "# Plot the original and transformed distributions\n",
    "plt.figure(figsize=(12, 4))\n",
    "plt.subplot(1, 3, 1)\n",
    "plt.hist(data, bins=50, edgecolor='black')\n",
    "plt.title('Original Data Distribution')\n",
    "plt.xlabel('Value')\n",
    "plt.ylabel('Frequency')\n",
    "plt.subplot(1, 3, 2)\n",
    "plt.hist(transformed_data, bins=50, edgecolor='black')\n",
    "plt.title('Uniform Transformed Data Distribution')\n",
    "plt.xlabel('Value')\n",
    "plt.ylabel('Frequency')\n",
    "plt.subplot(1, 3, 3)\n",
    "plt.hist(transformed_data2, bins=50, edgecolor='black')\n",
    "plt.title('Normal Transformed Data Distribution')\n",
    "plt.xlabel('Value')\n",
    "plt.ylabel('Frequency')\n",
    "plt.tight_layout()\n",
    "plt.show()"
   ]
  },
  {
   "cell_type": "markdown",
   "metadata": {},
   "source": [
    "In this example, we applied two different transformations on the original data. The first subplot shows the original data's exponential distribution. The second subplot shows the data after applying the first QuantileTransformer with an output distribution set to 'uniform'. The third subplot shows the data after applying the second QuantileTransformer with an output distribution set to 'normal'. This allows you to compare how different transformations affect the data distribution.\n",
    "\n",
    "### 5.3 Summary \n",
    "\n",
    "In summary, the QuantileTransformer in scikit-learn is a useful tool for transforming data to follow a uniform or normal distribution, making it beneficial for handling skewed or non-Gaussian data and preparing features for certain machine learning algorithms. However, it is essential to consider the characteristics of the data and the impact of outliers before applying any transformation technique."
   ]
  }
 ],
 "metadata": {
  "kernelspec": {
   "display_name": "Python 3",
   "language": "python",
   "name": "python3"
  },
  "language_info": {
   "codemirror_mode": {
    "name": "ipython",
    "version": 3
   },
   "file_extension": ".py",
   "mimetype": "text/x-python",
   "name": "python",
   "nbconvert_exporter": "python",
   "pygments_lexer": "ipython3",
   "version": "3.8.10"
  },
  "orig_nbformat": 4
 },
 "nbformat": 4,
 "nbformat_minor": 2
}
