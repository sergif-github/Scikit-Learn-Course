{
 "cells": [
  {
   "cell_type": "markdown",
   "metadata": {},
   "source": [
    "# Module 1: Data Analysis and Data Preprocessing\n",
    "\n",
    "## Section 2: Feature scaling and normalization\n",
    "\n",
    "### Part 7: Normalizer\n",
    "\n",
    "The Normalizer is a preprocessing technique in scikit-learn that is used to normalize samples (i.e., rows) in a dataset. Normalization is the process of scaling each data point to have a unit norm (i.e., length or magnitude). Normalization is applied to each sample independently, meaning that the features for a single sample are rescaled individually.\n",
    "\n",
    "### 7.1 Understanding normalizer\n",
    "\n",
    "The Normalizer class in scikit-learn can be useful in cases where the scale of features across different samples is not consistent, and you want to bring them to a common scale to avoid any bias in the machine learning model.\n",
    "\n",
    "\n",
    "The Normalizer in scikit-learn provides different normalization methods, including L1 normalization (Manhattan norm) and L2 normalization (Euclidean norm). The L1 normalization scales the data such that the sum of absolute values of each row is equal to 1, while L2 normalization scales the data such that the sum of squares of each row is equal to 1.\n",
    "\n",
    "### 7.1 Usage of normalizer\n",
    "\n",
    "To use the Normalizer class in scikit-learn, you can follow this example:"
   ]
  },
  {
   "cell_type": "code",
   "execution_count": 2,
   "metadata": {},
   "outputs": [
    {
     "name": "stdout",
     "output_type": "stream",
     "text": [
      "Original Data:\n",
      " [[1. 2.]\n",
      " [3. 4.]\n",
      " [5. 6.]]\n",
      "\n",
      "L1 Normalized Data:\n",
      " [[0.33333333 0.66666667]\n",
      " [0.42857143 0.57142857]\n",
      " [0.45454545 0.54545455]]\n",
      "\n",
      "L2 Normalized Data:\n",
      " [[0.4472136  0.89442719]\n",
      " [0.6        0.8       ]\n",
      " [0.6401844  0.76822128]]\n"
     ]
    }
   ],
   "source": [
    "import numpy as np\n",
    "from sklearn.preprocessing import Normalizer\n",
    "\n",
    "# Sample data: 3 samples with 2 features\n",
    "data = np.array([[1.0, 2.0], [3.0, 4.0], [5.0, 6.0]])\n",
    "\n",
    "# Create a Normalizer\n",
    "normalizer = Normalizer(norm='l1')\n",
    "normalizer2 = Normalizer(norm='l2')\n",
    "normalized_data = normalizer.transform(data)\n",
    "normalized_data2 = normalizer2.transform(data)\n",
    "\n",
    "print(\"Original Data:\\n\", data)\n",
    "print(\"\\nL1 Normalized Data:\\n\", normalized_data)\n",
    "print(\"\\nL2 Normalized Data:\\n\", normalized_data2)"
   ]
  },
  {
   "cell_type": "markdown",
   "metadata": {},
   "source": [
    "In this example, we used the L1 normalization (Manhattan norm) and L2 normalization (Euclidean norm) to normalize the data. As you can see, each row (sample) is normalized independently, and the sum of squares of each row is equal to 1 after normalization.\n",
    "\n",
    "### 7.2 Summary\n",
    "\n",
    "The Normalizer in scikit-learn is a useful tool for normalizing data samples independently, bringing them to a common scale, and avoiding any bias in machine learning models due to different feature scales. It provides different normalization methods (L1 and L2), allowing you to choose the one that suits your specific use case best."
   ]
  }
 ],
 "metadata": {
  "kernelspec": {
   "display_name": "Python 3",
   "language": "python",
   "name": "python3"
  },
  "language_info": {
   "codemirror_mode": {
    "name": "ipython",
    "version": 3
   },
   "file_extension": ".py",
   "mimetype": "text/x-python",
   "name": "python",
   "nbconvert_exporter": "python",
   "pygments_lexer": "ipython3",
   "version": "3.8.10"
  },
  "orig_nbformat": 4
 },
 "nbformat": 4,
 "nbformat_minor": 2
}
