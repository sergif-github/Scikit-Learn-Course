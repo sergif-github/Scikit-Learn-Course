{
 "cells": [
  {
   "cell_type": "markdown",
   "metadata": {},
   "source": [
    "# Module 1: Data Analysis and Data Preprocessing\n",
    "\n",
    "## Section 2: Feature scaling and normalization\n",
    "\n",
    "### Part 6: PowerTransformer in scikit-learn\n",
    "\n",
    "In this section, we will explore the PowerTransformer in scikit-learn, which is a preprocessing technique used to transform data into a more Gaussian-like distribution.\n",
    "\n",
    "### 6.1 Understanding power transformer\n",
    "\n",
    "PowerTransformer applies a power transformation to make the data more Gaussian-like and can be useful when dealing with data that is heavily skewed or does not follow a normal distribution. It is particularly beneficial for data that contains extreme values or has long tails.\n",
    "\n",
    "PowerTransformer supports two types of power transformations:\n",
    "\n",
    "- Yeo-Johnson Transformation: This is a generalization of the Box-Cox transformation and can handle both positive and negative values.\n",
    "- Box-Cox Transformation: This is suitable for data with positive values only.\n",
    "Usage of PowerTransformer:\n",
    "\n",
    "The PowerTransformer class in scikit-learn can be used to apply either Yeo-Johnson or Box-Cox transformation. The choice of transformation can be specified by setting the method parameter to 'yeo-johnson' or 'box-cox', respectively.\n",
    "\n",
    "### 6.2 Using PowerTransformer\n",
    "\n",
    "Let's demonstrate the usage of PowerTransformer with a synthetic dataset."
   ]
  },
  {
   "cell_type": "code",
   "execution_count": null,
   "metadata": {},
   "outputs": [],
   "source": [
    "import numpy as np\n",
    "import matplotlib.pyplot as plt\n",
    "from sklearn.preprocessing import PowerTransformer\n",
    "\n",
    "# Generate skewed data (exponential distribution)\n",
    "np.random.seed(1)\n",
    "data = np.random.exponential(1, size=1000).reshape(-1, 1)\n",
    "\n",
    "# Create a PowerTransformer instance using Yeo-Johnson transformation\n",
    "yeo_johnson_transformer = PowerTransformer(method='yeo-johnson')\n",
    "# Create a PowerTransformer instance using Box-Cox transformation\n",
    "box_cox_transformer = PowerTransformer(method='box-cox')\n",
    "# Fit and transform the data using Yeo-Johnson and Box-Cox transformations\n",
    "transformed_data_yj = yeo_johnson_transformer.fit_transform(data)\n",
    "transformed_data_bc = box_cox_transformer.fit_transform(data)\n",
    "\n",
    "# Plot the original and transformed distributions\n",
    "plt.figure(figsize=(12, 4))\n",
    "plt.subplot(1, 3, 1)\n",
    "plt.hist(data, bins=50, edgecolor='black')\n",
    "plt.title('Original Data Distribution')\n",
    "plt.xlabel('Value')\n",
    "plt.ylabel('Frequency')\n",
    "plt.subplot(1, 3, 2)\n",
    "plt.hist(transformed_data_yj, bins=50, edgecolor='black')\n",
    "plt.title('Transformed Data Distribution (Yeo-Johnson)')\n",
    "plt.xlabel('Value')\n",
    "plt.ylabel('Frequency')\n",
    "plt.subplot(1, 3, 3)\n",
    "plt.hist(transformed_data_bc, bins=50, edgecolor='black')\n",
    "plt.title('Transformed Data Distribution (Box-Cox)')\n",
    "plt.xlabel('Value')\n",
    "plt.ylabel('Frequency')\n",
    "plt.tight_layout()\n",
    "plt.show()"
   ]
  },
  {
   "cell_type": "markdown",
   "metadata": {},
   "source": [
    "In this example, we applied both Yeo-Johnson and Box-Cox transformations to the original exponential data. The first subplot shows the original data's exponential distribution. The second subplot shows the data after applying the Yeo-Johnson transformation, and the third subplot shows the data after applying the Box-Cox transformation. This allows us to compare the effects of both transformations on the data's distribution.\n",
    "\n",
    "### 6.3 Summary\n",
    "\n",
    "The PowerTransformer in scikit-learn is a powerful tool to transform skewed data into a more Gaussian-like distribution, making it more suitable for certain statistical methods that assume normally distributed data. It can be particularly useful in scenarios where the data contains extreme values or has long tails. Experimenting with different transformations can help achieve the best results for a given dataset and modeling task."
   ]
  }
 ],
 "metadata": {
  "kernelspec": {
   "display_name": "Python 3",
   "language": "python",
   "name": "python3"
  },
  "language_info": {
   "codemirror_mode": {
    "name": "ipython",
    "version": 3
   },
   "file_extension": ".py",
   "mimetype": "text/x-python",
   "name": "python",
   "nbconvert_exporter": "python",
   "pygments_lexer": "ipython3",
   "version": "3.8.10"
  },
  "orig_nbformat": 4
 },
 "nbformat": 4,
 "nbformat_minor": 2
}
