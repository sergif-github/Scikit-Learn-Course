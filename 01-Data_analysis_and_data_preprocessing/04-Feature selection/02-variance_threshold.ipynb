{
 "cells": [
  {
   "cell_type": "markdown",
   "metadata": {},
   "source": [
    "# Module 1: Data Analysis and Data Preprocessing\n",
    "\n",
    "## Section 4: Feature selection\n",
    "\n",
    "### Part 2: VarianceThreshold\n",
    "\n",
    "VarianceThreshold is a feature selection technique that removes features with low variance. It operates on numerical features and is particularly useful when dealing with datasets that have many constant or near-constant features. By removing such features, we can focus on the more informative variables.\n",
    "\n",
    "### 2.1 Using VarianceThreshold\n",
    "\n",
    "Parameters:\n",
    "- threshold: The variance threshold below which features will be removed. Features with a variance less than this threshold are considered low-variance and will be discarded.\n",
    "\n",
    "Advantages:\n",
    "- Simple and easy to use.\n",
    "- Effectively removes low-variance features, leading to reduced model complexity and potentially improved performance.\n",
    "\n",
    "Disadvantages:\n",
    "- Only considers the variance of individual features and ignores feature dependencies, which may not always result in the most optimal feature selection.\n",
    "- May not be suitable for datasets with high-dimensional, correlated features.\n",
    "\n",
    "Here's how you can use it:"
   ]
  },
  {
   "cell_type": "code",
   "execution_count": null,
   "metadata": {},
   "outputs": [],
   "source": [
    "import numpy as np\n",
    "import pandas as pd\n",
    "from sklearn.datasets import load_breast_cancer\n",
    "from sklearn.feature_selection import VarianceThreshold\n",
    "\n",
    "# Load the breast cancer dataset\n",
    "data = load_breast_cancer()\n",
    "x, y = data.data, data.target\n",
    "# Convert the data into a DataFrame for better visualization\n",
    "df = pd.DataFrame(x, columns=data.feature_names)\n",
    "df['target'] = y\n",
    "print(\"Original DataFrame features:\")\n",
    "print(df.columns)\n",
    "\n",
    "# Create the VarianceThreshold object with threshold=0.1\n",
    "selector = VarianceThreshold(threshold=0.2)\n",
    "# Fit the selector to the data and transform it\n",
    "X_selected = selector.fit_transform(x)\n",
    "# Get the selected feature indices\n",
    "selected_feature_indices = selector.get_support(indices=True)\n",
    "# Create a new DataFrame with only the selected features\n",
    "df_selected = df.iloc[:, selected_feature_indices]\n",
    "\n",
    "print(\"\\nDataFrame with selected features:\")\n",
    "print(df_selected.columns)"
   ]
  },
  {
   "cell_type": "markdown",
   "metadata": {},
   "source": [
    "### 2.2 Summary\n",
    "\n",
    "In summary, VarianceThreshold is a straightforward feature selection technique that helps remove low-variance features from the dataset. It is especially useful when dealing with datasets that contain numerous constant or near-constant features, as it allows us to focus on the more informative variables. However, for datasets with high-dimensional or correlated features, more advanced feature selection methods may be required to achieve better model performance and generalization."
   ]
  }
 ],
 "metadata": {
  "kernelspec": {
   "display_name": "Python 3",
   "language": "python",
   "name": "python3"
  },
  "language_info": {
   "codemirror_mode": {
    "name": "ipython",
    "version": 3
   },
   "file_extension": ".py",
   "mimetype": "text/x-python",
   "name": "python",
   "nbconvert_exporter": "python",
   "pygments_lexer": "ipython3",
   "version": "3.8.10"
  },
  "orig_nbformat": 4
 },
 "nbformat": 4,
 "nbformat_minor": 2
}
