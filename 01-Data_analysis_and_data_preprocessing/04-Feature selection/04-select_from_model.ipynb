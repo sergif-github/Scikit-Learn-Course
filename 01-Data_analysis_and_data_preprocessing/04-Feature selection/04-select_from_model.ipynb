{
 "cells": [
  {
   "cell_type": "markdown",
   "metadata": {},
   "source": [
    "# Module 1: Data Analysis and Data Preprocessing\n",
    "\n",
    "## Section 4: Feature selection\n",
    "\n",
    "### Part 4: SelectFromModel\n",
    "\n",
    "In this part, we will explore the concept of SelectFromModel, a feature selection technique that allows you to automatically select the most important features based on a specified threshold of feature importance. SelectFromModel is particularly useful when working with models that provide feature importance scores, such as ensemble methods.\n",
    "\n",
    "### 4.1 Using SelectFromModel\n",
    "\n",
    "SelectFromModel is a feature selection technique that automatically selects the most important features based on a specified threshold of feature importance. It works by fitting a machine learning model (e.g., Random Forest or Gradient Boosting) to the data and obtaining feature importance scores. Then, it selects the features whose importance exceeds the specified threshold.\n",
    "\n",
    "Advantages of SelectFromModel\n",
    "- Automated Feature Selection: SelectFromModel automatically selects the most relevant features based on their importance scores, saving time and effort in manual feature selection.\n",
    "- Model-Based Approach: It uses importance scores or coefficients obtained from a fitted model, making it more robust and accurate in identifying important features.\n",
    "- Scalable: SelectFromModel is scalable to large datasets and high-dimensional feature spaces.\n",
    "\n",
    "Disadvantages of SelectFromModel\n",
    "- Model Dependency: The feature selection process depends on the performance and feature importances provided by the chosen model. Selecting an inappropriate model may lead to suboptimal feature selection.\n",
    "- Threshold Choice: The choice of the threshold for feature selection can be challenging and may require experimentation to find the optimal value.\n",
    "\n",
    "Here's a step-by-step explanation of how it works:\n",
    "\n",
    "1. Choose an appropriate model: Select a supervised learning model that provides feature importance scores or coefficients. Models like RandomForestClassifier, RandomForestRegressor, Lasso, and ElasticNet are popular choices.\n",
    "2. Fit the model: Train the chosen model on the training data with the target variable. This step generates feature importances or coefficients.\n",
    "3. Thresholding: The SelectFromModel class selects features based on a threshold value. Features with importance scores or coefficients above the threshold will be retained, while those below the threshold will be removed.\n",
    "4. Transform the data: Transform the original dataset, keeping only the selected features based on the importance scores.\n",
    "\n",
    "Let's demonstrate the use of SelectFromModel with a random forest classifier as an example:"
   ]
  },
  {
   "cell_type": "code",
   "execution_count": null,
   "metadata": {},
   "outputs": [],
   "source": [
    "import numpy as np\n",
    "from sklearn.datasets import load_iris\n",
    "from sklearn.model_selection import train_test_split\n",
    "from sklearn.ensemble import RandomForestClassifier\n",
    "from sklearn.feature_selection import SelectFromModel\n",
    "from sklearn.metrics import accuracy_score\n",
    "\n",
    "# Load the Iris dataset\n",
    "data = load_iris()\n",
    "X, y = data.data, data.target\n",
    "\n",
    "# Split the data into training and test sets\n",
    "X_train, X_test, y_train, y_test = train_test_split(X, y, test_size=0.2, random_state=1)\n",
    "# Create the random forest classifier\n",
    "clf = RandomForestClassifier(random_state=1)\n",
    "# Create the SelectFromModel object with the random forest classifier\n",
    "selector = SelectFromModel(clf, threshold='median')\n",
    "# Fit the selector to the training data\n",
    "selector.fit(X_train, y_train)\n",
    "\n",
    "# Transform the training and test sets to keep only the selected features\n",
    "X_train_selected = selector.transform(X_train)\n",
    "X_test_selected = selector.transform(X_test)\n",
    "\n",
    "# Get the selected feature indices\n",
    "selected_feature_indices = selector.get_support(indices=True)\n",
    "# Print the selected feature names\n",
    "print(\"All features:\")\n",
    "print(data.feature_names)\n",
    "print(\"\\nSelected features:\")\n",
    "for x in selected_feature_indices:\n",
    "    print(\"\\t\", data.feature_names[x])\n",
    "\n",
    "# Train the classifier on the selected features\n",
    "clf.fit(X_train_selected, y_train)\n",
    "# Make predictions on the test data\n",
    "y_pred = clf.predict(X_test_selected)\n",
    "\n",
    "# Calculate accuracy on the test set\n",
    "accuracy = accuracy_score(y_test, y_pred)\n",
    "print(\"\\nAccuracy after feature selection:\", accuracy)"
   ]
  },
  {
   "cell_type": "markdown",
   "metadata": {},
   "source": [
    "In this example, we used the random forest classifier as the model and set the threshold to 'median', which means features with importance scores above the median importance will be kept. The final accuracy of the classifier is evaluated on the test set.\n",
    "\n",
    "### 4.2 Summary\n",
    "\n",
    "Overall, SelectFromModel is a powerful feature selection method, especially when combined with models that provide feature importances or coefficients. It helps improve model performance, reduce overfitting, and enhances the interpretability of machine learning models by selecting the most relevant features from the dataset."
   ]
  }
 ],
 "metadata": {
  "kernelspec": {
   "display_name": "Python 3",
   "language": "python",
   "name": "python3"
  },
  "language_info": {
   "codemirror_mode": {
    "name": "ipython",
    "version": 3
   },
   "file_extension": ".py",
   "mimetype": "text/x-python",
   "name": "python",
   "nbconvert_exporter": "python",
   "pygments_lexer": "ipython3",
   "version": "3.8.10"
  },
  "orig_nbformat": 4
 },
 "nbformat": 4,
 "nbformat_minor": 2
}
