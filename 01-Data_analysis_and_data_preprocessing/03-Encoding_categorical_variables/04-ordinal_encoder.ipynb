{
 "cells": [
  {
   "cell_type": "markdown",
   "metadata": {},
   "source": [
    "# Module 1: Data Analysis and Data Preprocessing\n",
    "\n",
    "## Section 3: Encoding categorical variables\n",
    "\n",
    "### Part 4: Ordinal Encoding\n",
    "\n",
    "Ordinal Encoding is a data preprocessing technique used to convert categorical variables into numerical labels while preserving the ordinal relationship between categories. Ordinal Encoding is particularly useful when working with categorical variables that have a meaningful order.\n",
    "\n",
    "### 4.1 Understanding Ordinal Encoding\n",
    "\n",
    "To preserve the ordinal relationship between categories Ordinal Encoding assigns a unique integer value to each category, with the order determined based on the predefined ordinality. Ordinal Encoding is suitable for categorical variables with a clear ordering, such as \"low,\" \"medium,\" and \"high.\"\n",
    "\n",
    "Ordinal Encoding allows algorithms to consider the relative importance or rank of the categories. However, it is important to ensure that the predefined order is meaningful and appropriate for the specific variable.\n",
    "\n",
    "### 4.2 Using Ordinal Encoding\n",
    "\n",
    "To apply Ordinal Encoding, we need a dataset with categorical variables that exhibit an ordinal relationship. The encoding process involves mapping each category to a unique integer label while respecting the predefined order. The order can be defined manually or inferred from the observed data."
   ]
  },
  {
   "cell_type": "code",
   "execution_count": null,
   "metadata": {},
   "outputs": [],
   "source": [
    "import numpy as np\n",
    "from sklearn.preprocessing import OrdinalEncoder\n",
    "\n",
    "# Define the ranking categories in the desired order\n",
    "ranking_order = ['Very Bad', 'Bad', 'Neutral', 'Good', 'Very Good']\n",
    "\n",
    "# Sample data with the ranking categories\n",
    "rankings = ['Good', 'Bad', 'Very Good', 'Neutral', 'Very Bad']\n",
    "\n",
    "# Create an OrdinalEncoder object with the specified categories order\n",
    "encoder = OrdinalEncoder(categories=[ranking_order])\n",
    "\n",
    "# Fit and transform the ranking data using the ordinal encoder\n",
    "encoded_rankings = encoder.fit_transform(np.array(rankings).reshape(-1, 1))\n",
    "\n",
    "# Convert the encoded_rankings to integers for better presentation\n",
    "encoded_rankings = encoded_rankings.astype(int).flatten()\n",
    "\n",
    "print(\"Original Ranking Data:\")\n",
    "print(rankings)\n",
    "print(\"\\nEncoded Ranking Data (using Ordinal Encoder):\")\n",
    "print(encoded_rankings)"
   ]
  },
  {
   "cell_type": "markdown",
   "metadata": {},
   "source": [
    "In this example, the ordinal encoder has converted the ranking \"Good\" to 3, \"Bad\" to 1, \"Very Good\" to 4, \"Neutral\" to 2, and \"Very Bad\" to 0, according to the specified order. Now, you have a numerical representation of the ordinal ranking, which can be used as input for machine learning models that require numerical data.\n",
    "\n",
    "### 4.3 One-Hot Encoding vs. Ordinal Encoding\n",
    "\n",
    "It is important to note that Ordinal Encoding differs from One-Hot Encoding. While Ordinal Encoding assigns unique integer labels to categories, One-Hot Encoding creates binary indicator variables for each category. The choice between the two techniques depends on the nature of the categorical variable (ordinal / nominal) and the requirements of the learning algorithm.\n",
    "\n",
    "### 4.4 Summary\n",
    "\n",
    "Ordinal Encoding is a data preprocessing technique used to convert categorical variables into numerical labels while preserving the ordinal relationship between categories. It assigns unique integer values to categories based on their predefined order. Libraries like category_encoders provide convenient implementations of Ordinal Encoding in Python."
   ]
  }
 ],
 "metadata": {
  "kernelspec": {
   "display_name": "Python 3",
   "language": "python",
   "name": "python3"
  },
  "language_info": {
   "codemirror_mode": {
    "name": "ipython",
    "version": 3
   },
   "file_extension": ".py",
   "mimetype": "text/x-python",
   "name": "python",
   "nbconvert_exporter": "python",
   "pygments_lexer": "ipython3",
   "version": "3.8.10"
  },
  "orig_nbformat": 4
 },
 "nbformat": 4,
 "nbformat_minor": 2
}
