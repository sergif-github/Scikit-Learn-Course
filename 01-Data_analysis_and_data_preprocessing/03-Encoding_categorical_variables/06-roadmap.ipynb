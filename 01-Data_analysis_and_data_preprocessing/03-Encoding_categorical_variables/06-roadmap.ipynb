{
 "cells": [
  {
   "cell_type": "markdown",
   "metadata": {},
   "source": [
    "# Module 1: Data Analysis and Data Preprocessing\n",
    "\n",
    "## Section 3: Encoding categorical variables\n",
    "\n",
    "### Part 6: Roadmap\n",
    "\n",
    "Choosing the appropriate categorical encoding method depends on the nature of the categorical variable, the number of unique categories, and the machine learning algorithm you plan to use. \n",
    "\n",
    "Here's a roadmap to help you decide which encoding method to use:\n",
    "\n",
    "Label Encoding\n",
    "- For ordinal categorical variables with a clear order, as it assigns unique integers to each category based on their order.\n",
    "- Works well with algorithms that can naturally interpret ordinal values, like decision trees and random forests.\n",
    "\n",
    "One-Hot Encoding\n",
    "- For nominal categorical variables (categories without an inherent order) with a relatively small number of unique categories.\n",
    "- Creates binary columns for each category, which can be beneficial for linear models or algorithms that cannot handle ordinal values.\n",
    "\n",
    "Binary Encoder\n",
    "- For nominal categorical variables with a large number of unique categories.\n",
    "- Encodes each category into binary code and is memory-efficient compared to one-hot encoding.\n",
    "\n",
    "Ordinal Encoder\n",
    "- For ordinal categorical variables with a clear order but avoids integer mapping, which might not be appropriate for certain algorithms.\n",
    "- Maps categories to integers without assigning any inherent ordinality.\n",
    "\n",
    "Hashing Encoder\n",
    "- For nominal categorical variables with a large number of unique categories when memory is a concern.\n",
    "- Hashes categories into a fixed number of bins, which can be useful when one-hot encoding might be impractical.\n",
    "\n",
    "Target Encoder\n",
    "- For nominal categorical variables when you want to incorporate the target variable information into the encoding.\n",
    "- Replaces categories with the mean (or other statistic) of the target variable for each category, which can help capture target-dependent relationships.\n",
    "\n",
    "Remember to consider the nature of your categorical variable (nominal or ordinal) and the number of unique categories.\n",
    "Be mindful of the potential impact of each encoding method on the interpretability and performance of your machine learning model.\n",
    "Keep in mind that some algorithms can handle categorical variables natively, while others may require preprocessing (like encoding) to convert them into numerical values.\n",
    "Remember, there is no one-size-fits-all approach, and experimentation is essential to determine which encoding method works best for your specific dataset and machine learning task."
   ]
  }
 ],
 "metadata": {
  "language_info": {
   "name": "python"
  },
  "orig_nbformat": 4
 },
 "nbformat": 4,
 "nbformat_minor": 2
}
