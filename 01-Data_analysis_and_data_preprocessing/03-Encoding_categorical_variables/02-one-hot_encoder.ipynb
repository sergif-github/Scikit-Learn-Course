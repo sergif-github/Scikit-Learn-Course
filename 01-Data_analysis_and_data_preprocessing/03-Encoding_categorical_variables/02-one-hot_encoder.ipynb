{
 "cells": [
  {
   "cell_type": "markdown",
   "metadata": {},
   "source": [
    "# Module 1: Data Analysis and Data Preprocessing\n",
    "\n",
    "## Section 3: Encoding categorical variables\n",
    "\n",
    "### Part 2: One-Hot Encoding\n",
    "\n",
    "One-Hot Encoding ia a technique used to convert categorical variables into a numerical format that can be easily understood by machine learning algorithms. \n",
    "\n",
    "### 2.1 Understanding One-Hot Encoding\n",
    "\n",
    "One-Hot Encoding creates binary columns for each category, where a value of 1 indicates the presence of that category and 0 indicates its absence. Is particularly useful when dealing with categorical variables that do not have an inherent order or ranking.\n",
    "\n",
    "### 2.2 Implementing One-Hot Encoding\n",
    "\n",
    "Scikit-Learn provides the OneHotEncoder class to perform One-Hot Encoding. Here's an example of how to use it:"
   ]
  },
  {
   "cell_type": "code",
   "execution_count": null,
   "metadata": {},
   "outputs": [],
   "source": [
    "import pandas as pd\n",
    "from sklearn.preprocessing import OneHotEncoder\n",
    "\n",
    "# Sample data with a categorical feature\n",
    "data = {'Color': ['Red', 'Green', 'Blue', 'Green', 'Red', 'Blue']}\n",
    "df = pd.DataFrame(data)\n",
    "\n",
    "# Create the OneHotEncoder object\n",
    "encoder = OneHotEncoder()\n",
    "# Fit and transform the data using OneHotEncoder\n",
    "encoded_data = encoder.fit_transform(df[['Color']])\n",
    "# Convert the encoded data to a DataFrame for better visualization\n",
    "encoded_df = pd.DataFrame(encoded_data.toarray(), columns=encoder.get_feature_names_out(['Color']))\n",
    "\n",
    "# Print the original DataFrame and the encoded DataFrame\n",
    "print(\"Original DataFrame:\")\n",
    "print(df)\n",
    "print(\"\\nEncoded DataFrame:\")\n",
    "print(encoded_df)"
   ]
  },
  {
   "cell_type": "markdown",
   "metadata": {},
   "source": [
    "This code demonstrates the use of OneHotEncoder. First we create a sample DataFrame df with a categorical feature named \"Color,\" containing color names and an instance of OneHotEncoder called encoder. We apply fit_transform on the \"Color\" column of the DataFrame using encoder, which returns the one-hot encoded data as a sparse matrix. Finally we convert the sparse matrix to a DataFrame named encoded_df for better visualization and print both the original DataFrame df and the encoded DataFrame encoded_df to compare the results. The encoded DataFrame encoded_df now has binary columns for each unique color, where a 1 indicates the presence of that color and a 0 indicates its absence.\n",
    "\n",
    "### 2.3 Dealing with Sparse Output\n",
    "\n",
    "One-Hot Encoding can result in a large number of binary columns, especially when dealing with categorical variables with many unique categories. In such cases, the encoded matrix can become sparse, containing mostly zeros. Scikit-Learn's OneHotEncoder class supports sparse output by default, which can save memory and computational resources.\n",
    "\n",
    "### 2.4 Summary\n",
    "\n",
    "One-Hot Encoding is a powerful technique to convert categorical variables into a numerical format suitable for machine learning algorithms. It creates binary columns for each category, indicating the presence or absence of that category. Scikit-Learn's OneHotEncoder class provides a convenient way to perform One-Hot Encoding on categorical features."
   ]
  }
 ],
 "metadata": {
  "kernelspec": {
   "display_name": "Python 3",
   "language": "python",
   "name": "python3"
  },
  "language_info": {
   "codemirror_mode": {
    "name": "ipython",
    "version": 3
   },
   "file_extension": ".py",
   "mimetype": "text/x-python",
   "name": "python",
   "nbconvert_exporter": "python",
   "pygments_lexer": "ipython3",
   "version": "3.8.10"
  },
  "orig_nbformat": 4
 },
 "nbformat": 4,
 "nbformat_minor": 2
}
