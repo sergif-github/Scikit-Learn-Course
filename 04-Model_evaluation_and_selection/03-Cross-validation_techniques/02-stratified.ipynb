{
 "cells": [
  {
   "cell_type": "markdown",
   "metadata": {},
   "source": [
    "# Module 2: Advanced Techniques in Scikit-Learn\n",
    "\n",
    "## Section 6: Model Evaluation and Selection\n",
    "\n",
    "### Part 2: Stratified K-fold Cross-Validation\n",
    "\n",
    "In this part, we will explore Stratified K-fold Cross-Validation, a variation of K-fold Cross-Validation designed to handle imbalanced datasets. Stratified K-fold Cross-Validation ensures that each fold has a proportional representation of different classes, which is especially important when dealing with imbalanced data. Understanding Stratified K-fold Cross-Validation is crucial for obtaining reliable performance estimates in such scenarios. Let's dive in!\n",
    "\n",
    "### 2.1 Understanding Stratified K-fold Cross-Validation\n",
    "\n",
    "Stratified K-fold Cross-Validation is similar to the traditional K-fold Cross-Validation, but with one key difference: it ensures that the distribution of classes in each fold is similar to the overall distribution in the dataset. This is particularly useful when dealing with imbalanced datasets, where the number of instances in different classes is significantly different.\n",
    "\n",
    "The main advantage of Stratified K-fold Cross-Validation is that it provides a more accurate estimate of a model's performance on unseen data, especially when the classes are imbalanced. By maintaining the class proportions in each fold, the evaluation becomes less biased and more reliable.\n",
    "\n",
    "### 2.2 Using Stratified K-fold Cross-Validation in Scikit-Learn\n",
    "\n",
    "Scikit-Learn provides the StratifiedKFold class, which can be used to perform Stratified K-fold Cross-Validation. Here's an example of how to use it:\n",
    "\n",
    "```python\n",
    "from sklearn.model_selection import StratifiedKFold\n",
    "from sklearn.svm import SVC\n",
    "\n",
    "# Assuming X and y are the feature matrix and target vector, respectively\n",
    "skf = StratifiedKFold(n_splits=5, shuffle=True, random_state=42)\n",
    "clf = SVC(kernel='linear')\n",
    "scores = cross_val_score(clf, X, y, cv=skf)\n",
    "```\n",
    "\n",
    "In this example, n_splits=5 specifies that we want to perform 5-fold Cross-Validation. The shuffle=True ensures that the data is shuffled before splitting, and random_state=42 sets a random seed for reproducibility.\n",
    "\n",
    "### 2.3 Summary\n",
    "\n",
    "Stratified K-fold Cross-Validation is a valuable technique, especially for imbalanced datasets. It helps to obtain more reliable performance estimates by maintaining the class distribution in each fold. Scikit-Learn's StratifiedKFold class makes it easy to perform Stratified K-fold Cross-Validation.\n",
    "\n",
    "In the next part, we will explore other evaluation and selection techniques commonly used in machine learning.\n",
    "\n",
    "Feel free to practice Stratified K-fold Cross-Validation on your datasets, especially if you are dealing with imbalanced classes. Experiment with different values of n_splits and other parameters to find the optimal configuration for your specific problem."
   ]
  }
 ],
 "metadata": {
  "language_info": {
   "name": "python"
  },
  "orig_nbformat": 4
 },
 "nbformat": 4,
 "nbformat_minor": 2
}
