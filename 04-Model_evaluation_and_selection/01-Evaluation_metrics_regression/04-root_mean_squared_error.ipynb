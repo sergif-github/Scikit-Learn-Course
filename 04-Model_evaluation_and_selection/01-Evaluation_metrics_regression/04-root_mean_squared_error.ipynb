{
 "cells": [
  {
   "cell_type": "markdown",
   "metadata": {},
   "source": [
    "# Module 2: Advanced Techniques in Scikit-Learn\n",
    "\n",
    "## Section 6: Model Evaluation and Selection\n",
    "\n",
    "### Part 4: Root Mean Squared Error (RMSE)\n",
    "\n",
    "In this part, we will explore the concept of Root Mean Squared Error (RMSE), another widely used evaluation metric for regression models. RMSE measures the square root of the average squared difference between the predicted values and the true target values. Understanding RMSE is crucial for evaluating the accuracy and performance of regression models. Let's dive in!\n",
    "\n",
    "### 4.1 Understanding Root Mean Squared Error (RMSE)\n",
    "\n",
    "Root Mean Squared Error (RMSE) is a metric used to evaluate the performance of regression models. It calculates the square root of the average squared difference between the predicted values and the actual target values. RMSE is sensitive to outliers, similar to Mean Squared Error (MSE).\n",
    "\n",
    "The formula for RMSE is as follows:\n",
    "\n",
    "$MAE = \\sqrt{\\frac{1}{n}\\sum\\limits _{i=1} ^{n}({y_{true,i}-y_{pred,i})^2}}$\n",
    "\n",
    "Where:\n",
    "\n",
    "- $n$ is the number of samples in the dataset.\n",
    "- $y_{true,i}$ is the true target value of the i-th sample.\n",
    "- $y_{pred,i}$ is the predicted target value of the i-th sample.​\n",
    "\n",
    "\n",
    "### 4.2 Interpreting RMSE\n",
    "\n",
    "RMSE measures the square root of the average squared difference between the predicted and actual values. Like MSE, RMSE penalizes large errors more than small errors, making it sensitive to outliers. A lower RMSE indicates better model performance and more accurate predictions.\n",
    "\n",
    "### 4.3 Using RMSE in Scikit-Learn\n",
    "\n",
    "Scikit-Learn does not have a specific function to calculate RMSE directly. However, you can calculate RMSE by taking the square root of the MSE obtained using the mean_squared_error function. Here's an example of how to do it:\n",
    "\n",
    "```python\n",
    "from sklearn.metrics import mean_squared_error\n",
    "\n",
    "# Assuming y_true and y_pred are the true and predicted target values, respectively\n",
    "mse = mean_squared_error(y_true, y_pred)\n",
    "rmse = np.sqrt(mse)\n",
    "```\n",
    "\n",
    "### 4.4 Summary\n",
    "\n",
    "Root Mean Squared Error (RMSE) is a widely used evaluation metric for regression models. It measures the square root of the average squared difference between the predicted and actual target values. RMSE is sensitive to outliers and provides a measure of the accuracy and performance of regression models. You can calculate RMSE by taking the square root of the MSE obtained using Scikit-Learn's mean_squared_error function.\n",
    "\n",
    "In the next part, we will explore other evaluation metrics commonly used in regression and classification tasks.\n",
    "\n",
    "Feel free to practice calculating RMSE for different regression models. Compare the RMSE values to assess the performance of the models on your dataset."
   ]
  }
 ],
 "metadata": {
  "language_info": {
   "name": "python"
  },
  "orig_nbformat": 4
 },
 "nbformat": 4,
 "nbformat_minor": 2
}
