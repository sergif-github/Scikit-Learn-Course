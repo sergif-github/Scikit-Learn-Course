{
 "cells": [
  {
   "cell_type": "markdown",
   "metadata": {},
   "source": [
    "# Module 2: Advanced Techniques in Scikit-Learn\n",
    "\n",
    "## Section 6: Model Evaluation and Selection\n",
    "\n",
    "### Part 3: Mean Absolute Error (MAE)\n",
    "\n",
    "In this part, we will explore the concept of Mean Absolute Error (MAE), another common evaluation metric used to assess the performance of regression models. MAE measures the average absolute difference between the predicted values and the true target values. Understanding MAE is crucial for evaluating and comparing the accuracy of regression models. Let's dive in!\n",
    "\n",
    "### 3.1 Understanding Mean Absolute Error (MAE)\n",
    "\n",
    "Mean Absolute Error (MAE) is a metric used to evaluate the performance of regression models. It calculates the average absolute difference between the predicted values and the actual target values. MAE is less sensitive to outliers compared to Mean Squared Error (MSE).\n",
    "\n",
    "The formula for MAE is as follows:\n",
    "\n",
    "\n",
    "$MAE = \\frac{1}{n}\\sum\\limits _{i=1} ^{n}|{y_{true,i}-y_{pred,i}|}$\n",
    "\n",
    "Where:\n",
    "\n",
    "- $n$ is the number of samples in the dataset.\n",
    "- $y_{true,i}$ is the true target value of the i-th sample.\n",
    "- $y_{pred,i}$ is the predicted target value of the i-th sample.\n",
    "\n",
    "### 3.2 Interpreting MAE\n",
    "\n",
    "MAE measures the average absolute difference between the predicted and actual values. Unlike MSE, MAE does not square the differences, which makes it less sensitive to large errors or outliers. A lower MAE indicates better model performance and more accurate predictions.\n",
    "\n",
    "### 3.3 Using MAE in Scikit-Learn\n",
    "\n",
    "Scikit-Learn provides the mean_absolute_error function to calculate MAE. Here's an example of how to use it:\n",
    "\n",
    "```python\n",
    "from sklearn.metrics import mean_absolute_error\n",
    "\n",
    "# Assuming y_true and y_pred are the true and predicted target values, respectively\n",
    "mae = mean_absolute_error(y_true, y_pred)\n",
    "```\n",
    "\n",
    "### 3.4 Summary\n",
    "\n",
    "Mean Absolute Error (MAE) is an important evaluation metric for regression models. It measures the average absolute difference between the predicted and actual target values. MAE is less sensitive to outliers compared to MSE, which makes it suitable for certain types of data. Scikit-Learn's mean_absolute_error function allows easy computation of MAE for regression tasks.\n",
    "\n",
    "In the next part, we will explore other evaluation metrics commonly used in regression and classification tasks.\n",
    "\n",
    "Feel free to practice calculating MAE using Scikit-Learn's mean_absolute_error function with different regression models. Compare the MAE values to assess the performance of the models on your dataset."
   ]
  }
 ],
 "metadata": {
  "language_info": {
   "name": "python"
  },
  "orig_nbformat": 4
 },
 "nbformat": 4,
 "nbformat_minor": 2
}
