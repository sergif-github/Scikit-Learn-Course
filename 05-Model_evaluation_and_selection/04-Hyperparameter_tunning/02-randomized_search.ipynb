{
 "cells": [
  {
   "cell_type": "markdown",
   "metadata": {},
   "source": [
    "# Module 2: Advanced Techniques in Scikit-Learn\n",
    "\n",
    "## Section 6: Model Evaluation and Selection\n",
    "\n",
    "### Part 2: Randomized Search\n",
    "\n",
    "In this part, we will explore Randomized Search, an alternative approach to hyperparameter tuning that efficiently searches through a random subset of hyperparameter combinations. Randomized Search is particularly useful when the hyperparameter search space is large and exhaustively searching through all combinations using Grid Search becomes computationally expensive. Understanding Randomized Search is crucial for efficiently optimizing the performance of machine learning models. Let's dive in!\n",
    "\n",
    "### 2.1 Understanding Randomized Search\n",
    "\n",
    "Similar to Grid Search, Randomized Search also aims to find the best hyperparameters for a machine learning model. However, instead of searching through all possible combinations of hyperparameters, Randomized Search samples a fixed number of random combinations from the hyperparameter search space.\n",
    "\n",
    "Randomized Search offers several advantages:\n",
    "\n",
    "1. Efficiency: It is computationally more efficient than Grid Search, especially when the hyperparameter search space is large.\n",
    "\n",
    "2. Exploration and Exploitation: Randomized Search explores a wider range of hyperparameter values, which can lead to better generalization performance.\n",
    "\n",
    "3. Parallelization: Since Randomized Search samples random combinations independently, it can be easily parallelized to speed up the search process.\n",
    "\n",
    "### 2.2 Using Randomized Search in Scikit-Learn\n",
    "\n",
    "Scikit-Learn provides the RandomizedSearchCV class, which can be used to perform Randomized Search. Here's an example of how to use it:\n",
    "\n",
    "```python\n",
    "from sklearn.model_selection import RandomizedSearchCV\n",
    "from sklearn.svm import SVC\n",
    "from scipy.stats import uniform\n",
    "\n",
    "# Assuming X_train and y_train are the training data and labels, respectively\n",
    "param_distributions = {'C': uniform(0.1, 10), 'kernel': ['linear', 'rbf']}\n",
    "model = SVC()\n",
    "random_search = RandomizedSearchCV(model, param_distributions, n_iter=5, cv=5)\n",
    "random_search.fit(X_train, y_train)\n",
    "\n",
    "# Get the best hyperparameters\n",
    "best_params = random_search.best_params_\n",
    "```\n",
    "\n",
    "In this example, we are performing Randomized Search on an SVM model with two hyperparameters: C and kernel. The param_distributions dictionary contains the search space for each hyperparameter. The n_iter parameter specifies the number of random combinations to sample. The RandomizedSearchCV object is then fit to the training data using 5-fold cross-validation (cv=5). After the Randomized Search is complete, we can access the best hyperparameters using the best_params_ attribute.\n",
    "\n",
    "### 2.3 Summary\n",
    "\n",
    "Randomized Search is a powerful and efficient technique for hyperparameter tuning. It randomly samples a subset of hyperparameter combinations from the search space, making it computationally more efficient than Grid Search. Scikit-Learn's RandomizedSearchCV class allows easy implementation of Randomized Search.\n",
    "\n",
    "In the next part, we will explore other evaluation and selection techniques commonly used in machine learning.\n",
    "\n",
    "Feel free to practice Randomized Search on your models. Experiment with different search spaces and the number of iterations to find the best hyperparameters for your machine learning models. Randomized Search can significantly speed up the hyperparameter tuning process while yielding excellent results."
   ]
  }
 ],
 "metadata": {
  "language_info": {
   "name": "python"
  },
  "orig_nbformat": 4
 },
 "nbformat": 4,
 "nbformat_minor": 2
}
