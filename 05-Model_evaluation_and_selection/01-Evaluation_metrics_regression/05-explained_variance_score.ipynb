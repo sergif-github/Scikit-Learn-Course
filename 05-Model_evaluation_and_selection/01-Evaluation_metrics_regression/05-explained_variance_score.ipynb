{
 "cells": [
  {
   "cell_type": "markdown",
   "metadata": {},
   "source": [
    "# Module 2: Advanced Techniques in Scikit-Learn\n",
    "\n",
    "## Section 6: Model Evaluation and Selection\n",
    "\n",
    "### Part 5: Explained Variance Score\n",
    "\n",
    "In this part, we will explore the concept of Explained Variance Score, another important evaluation metric used for regression models. Explained Variance Score measures the proportion of the variance in the target variable that is explained by the model's predictions. Understanding Explained Variance Score is crucial for assessing the goodness of fit of regression models. Let's dive in!\n",
    "\n",
    "### 5.1 Understanding Explained Variance Score\n",
    "\n",
    "Explained Variance Score is a metric used to evaluate the performance of regression models. It quantifies the proportion of the variance in the target variable (y_true) that is explained by the model's predictions (y_pred). A perfect Explained Variance Score of 1.0 indicates that the model's predictions perfectly explain the variance in the target variable.\n",
    "\n",
    "The formula for Explained Variance Score is as follows:\n",
    "\n",
    "$Explained Variance Score = 1- \\frac{Var(y_{true}-y_{pred})}{Var(y_{true})}$\n",
    "\n",
    "Where:\n",
    "- $Var(.)$ represents the variance of a variable.\n",
    "- $y_{true}$ is the true target values.\n",
    "- $y_{pred}$ is the predicted target values.\n",
    "\n",
    "### 5.2 Interpreting Explained Variance Score\n",
    "\n",
    "Explained Variance Score ranges from negative infinity to 1.0. A score of 1.0 indicates that the model's predictions perfectly explain the variance in the target variable, while lower scores suggest that the model performs worse.\n",
    "\n",
    "It's important to note that Explained Variance Score is independent of the scale of the target variable and represents the proportion of variance explained.\n",
    "\n",
    "### 5.3 Using Explained Variance Score in Scikit-Learn\n",
    "\n",
    "Scikit-Learn provides the explained_variance_score function to calculate the Explained Variance Score. Here's an example of how to use it:\n",
    "\n",
    "```python\n",
    "from sklearn.metrics import explained_variance_score\n",
    "\n",
    "# Assuming y_true and y_pred are the true and predicted target values, respectively\n",
    "explained_variance = explained_variance_score(y_true, y_pred)\n",
    "```\n",
    "\n",
    "### 5.4 Summary\n",
    "\n",
    "Explained Variance Score is a crucial evaluation metric for regression models. It measures the proportion of the variance in the target variable that is explained by the model's predictions. A higher Explained Variance Score indicates a better fit of the model to the data. Scikit-Learn's explained_variance_score function allows easy computation of this metric for regression tasks.\n",
    "\n",
    "In the next part, we will explore other evaluation metrics commonly used in regression and classification tasks.\n",
    "\n",
    "Feel free to practice calculating Explained Variance Score using Scikit-Learn's explained_variance_score function with different regression models. Compare the scores to assess the goodness of fit of the models on your dataset."
   ]
  }
 ],
 "metadata": {
  "language_info": {
   "name": "python"
  },
  "orig_nbformat": 4
 },
 "nbformat": 4,
 "nbformat_minor": 2
}
