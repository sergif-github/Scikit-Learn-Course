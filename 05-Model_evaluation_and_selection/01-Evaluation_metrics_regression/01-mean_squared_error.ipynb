{
 "cells": [
  {
   "cell_type": "markdown",
   "metadata": {},
   "source": [
    "# Module 2: Advanced Techniques in Scikit-Learn\n",
    "\n",
    "## Section 6: Model Evaluation and Selection\n",
    "\n",
    "### Part 1: Mean Squared Error (MSE)\n",
    "\n",
    "In this part, we will explore the concept of Mean Squared Error (MSE), an evaluation metric commonly used to assess the performance of regression models. MSE measures the average squared difference between the predicted values and the true target values. Understanding MSE is crucial for evaluating and comparing the accuracy of regression models. Let's dive in!\n",
    "\n",
    "### 1.1 Understanding Mean Squared Error (MSE)\n",
    "\n",
    "Mean Squared Error (MSE) is a metric used to evaluate the performance of regression models. It calculates the average of the squared differences between the predicted values and the actual target values. The lower the MSE value, the better the model's predictions align with the true values.\n",
    "\n",
    "The formula for MSE is as follows:\n",
    "\n",
    "$MSE = \\frac{1}{n}\\sum\\limits _{i=1} ^{n}(y_{true,i}-y_{pred,i})^2$\n",
    " \n",
    "\n",
    "Where:\n",
    "\n",
    "- $n$ is the number of samples in the dataset.\n",
    "- $y_{true,i}$​ is the true target value of the \n",
    "- $y_{pred,i}$ is the predicted target value of the i-th sample.\n",
    "\n",
    "\n",
    "### 1.2 Interpreting MSE\n",
    "\n",
    "MSE quantifies the average squared difference between the predicted and actual values. It penalizes large errors more than small errors, making it sensitive to outliers. A lower MSE indicates better model performance and more accurate predictions.\n",
    "\n",
    "### 1.3 Using MSE in Scikit-Learn\n",
    "\n",
    "Scikit-Learn provides the mean_squared_error function to calculate MSE. Here's an example of how to use it:\n",
    "\n",
    "```python\n",
    "from sklearn.metrics import mean_squared_error\n",
    "\n",
    "# Assuming y_true and y_pred are the true and predicted target values, respectively\n",
    "mse = mean_squared_error(y_true, y_pred)\n",
    "```\n",
    "\n",
    "### 1.4 Summary\n",
    "\n",
    "Mean Squared Error (MSE) is a widely used evaluation metric for regression models. It measures the average squared difference between the predicted and actual target values. A lower MSE indicates better model performance and more accurate predictions. Scikit-Learn's mean_squared_error function allows easy computation of MSE for regression tasks.\n",
    "\n",
    "In the next part, we will explore other evaluation metrics commonly used in regression and classification tasks.\n",
    "\n",
    "Feel free to practice calculating MSE using Scikit-Learn's mean_squared_error function with different regression models. Compare the MSE values to assess the performance of the models on your dataset."
   ]
  }
 ],
 "metadata": {
  "language_info": {
   "name": "python"
  },
  "orig_nbformat": 4
 },
 "nbformat": 4,
 "nbformat_minor": 2
}
